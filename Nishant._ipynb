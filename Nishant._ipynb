{
 "cells": [
  {
   "cell_type": "markdown",
   "metadata": {
    "id": "z_V_A8T_QJtp"
   },
   "source": [
    "___\n",
    "\n",
    "Mr. Yogesh P Murumkar (Mob. 9657080906)\n",
    "\n",
    "https://www.youtube.com/c/yogeshmurumkar\n",
    "___\n",
    "# Python Course Exercises 1\n",
    "\n",
    "This is an optional exercise to test your understanding of Python Basics. If you find this extremely challenging, then you probably are not ready for the rest of this course yet and don't have enough programming experience to continue. I would suggest you take another course more geared towards complete beginners."
   ]
  },
  {
   "cell_type": "markdown",
   "metadata": {
    "id": "xBGUpw8-QJtx"
   },
   "source": [
    "## Exercises\n",
    "\n",
    "Answer the questions or complete the tasks outlined in bold below, use the specific method described if applicable."
   ]
  },
  {
   "cell_type": "markdown",
   "metadata": {
    "id": "Tu4Ttsj0QJtz"
   },
   "source": [
    "** What is 7 to the power of 4?**"
   ]
  },
  {
   "cell_type": "code",
   "execution_count": null,
   "metadata": {
    "colab": {
     "base_uri": "https://localhost:8080/"
    },
    "executionInfo": {
     "elapsed": 4,
     "status": "ok",
     "timestamp": 1649394640794,
     "user": {
      "displayName": "Dhanshri Patil",
      "userId": "02061507056400757161"
     },
     "user_tz": -330
    },
    "id": "cWIR4g_uQJt0",
    "outputId": "924f0698-72e6-4744-b4f6-b6d8e75102c1"
   },
   "outputs": [
    {
     "data": {
      "text/plain": [
       "2401"
      ]
     },
     "execution_count": 1,
     "metadata": {},
     "output_type": "execute_result"
    }
   ],
   "source": [
    "7**4"
   ]
  },
  {
   "cell_type": "markdown",
   "metadata": {
    "id": "9elwvS6QQJt3"
   },
   "source": [
    "** Split this string:**\n",
    "\n",
    "    s = \"Hi there Yogesh!\"\n",
    "    \n",
    "**into a list. **"
   ]
  },
  {
   "cell_type": "code",
   "execution_count": 2,
   "metadata": {
    "colab": {
     "base_uri": "https://localhost:8080/"
    },
    "executionInfo": {
     "elapsed": 691,
     "status": "ok",
     "timestamp": 1659335052870,
     "user": {
      "displayName": "vaishnavi gaurkar",
      "userId": "09494641570742533631"
     },
     "user_tz": -330
    },
    "id": "56HyQIsxQJt5",
    "outputId": "4bd92731-006b-4356-a869-22e634968eef"
   },
   "outputs": [],
   "source": [
    "s=['Hi','there','yogesh!']"
   ]
  },
  {
   "cell_type": "markdown",
   "metadata": {
    "id": "XAShUFRpQJt7"
   },
   "source": [
    "** Given the variables:**\n",
    "\n",
    "    planet = \"Earth\"\n",
    "    diameter = 12742\n",
    "\n",
    "** Use .format() to print the following string: **\n",
    "\n",
    "    The diameter of Earth is 12742 kilometers."
   ]
  },
  {
   "cell_type": "code",
   "execution_count": null,
   "metadata": {
    "id": "LU3iNVUIQJt9"
   },
   "outputs": [],
   "source": [
    "planet = \"Earth\"\n",
    "diameter = 12742"
   ]
  },
  {
   "cell_type": "code",
   "execution_count": 4,
   "metadata": {
    "id": "J6rjkMKOQJt_",
    "outputId": "994a2925-0725-4e4f-cb63-5a791973d606"
   },
   "outputs": [
    {
     "name": "stdout",
     "output_type": "stream",
     "text": [
      "The diameter of Earth is 12742 kilometers\n"
     ]
    }
   ],
   "source": [
    "print('The diameter of {planet} is {diameter} kilometers'.format(planet=\"Earth\",diameter=12742))"
   ]
  },
  {
   "cell_type": "markdown",
   "metadata": {
    "id": "ughIjEVmQJuA"
   },
   "source": [
    "** Given this nested list, use indexing to grab the word \"hello\" **"
   ]
  },
  {
   "cell_type": "code",
   "execution_count": 16,
   "metadata": {
    "id": "CICK3SenQJuB"
   },
   "outputs": [],
   "source": [
    "lst=[1,2,[3,4],[5,[100,200,['hello']],23,11],1,7]"
   ]
  },
  {
   "cell_type": "code",
   "execution_count": 18,
   "metadata": {
    "id": "bzy0iB1gQJuD",
    "outputId": "21072807-abf1-4919-bf5e-d8c46d4d4648"
   },
   "outputs": [
    {
     "name": "stdout",
     "output_type": "stream",
     "text": [
      "hello\n"
     ]
    }
   ],
   "source": [
    "print(lst[3][1][2][0])"
   ]
  },
  {
   "cell_type": "markdown",
   "metadata": {
    "id": "KvZZ9uOAQJuD"
   },
   "source": [
    "** Given this nested dictionary grab the word \"hello\". Be prepared, this will be annoying/tricky **"
   ]
  },
  {
   "cell_type": "code",
   "execution_count": 20,
   "metadata": {
    "id": "6UYjb58KQJuE"
   },
   "outputs": [],
   "source": [
    "d={'k1':[1,2,3,{'tricky':['oh','man','inception',{'target':[1,2,3,'hello']}]}]}"
   ]
  },
  {
   "cell_type": "code",
   "execution_count": 22,
   "metadata": {
    "id": "qEHcy_WhQJuE",
    "outputId": "3bed0670-8901-45f4-804f-4db1d7b256bc"
   },
   "outputs": [
    {
     "data": {
      "text/plain": [
       "'hello'"
      ]
     },
     "execution_count": 22,
     "metadata": {},
     "output_type": "execute_result"
    }
   ],
   "source": [
    "\n",
    "d['k1'][3]['tricky'][3]['target'][3]"
   ]
  },
  {
   "cell_type": "markdown",
   "metadata": {
    "id": "2K65VtFZQJuF"
   },
   "source": [
    "** What is the main difference between a tuple and a list? **"
   ]
  },
  {
   "cell_type": "code",
   "execution_count": null,
   "metadata": {
    "collapsed": true,
    "id": "bybmMa7sQJuF",
    "jupyter": {
     "outputs_hidden": true
    }
   },
   "outputs": [],
   "source": [
    "# Tuple is immutable"
   ]
  },
  {
   "cell_type": "markdown",
   "metadata": {
    "id": "YlhiTKVdQJuG"
   },
   "source": [
    "** Create a function that grabs the email website domain from a string in the form: **\n",
    "\n",
    "    user@domain.com\n",
    "    \n",
    "**So for example, passing \"user@domain.com\" would return: domain.com**"
   ]
  },
  {
   "cell_type": "code",
   "execution_count": 24,
   "metadata": {
    "id": "97fbiFEDQJuH"
   },
   "outputs": [
    {
     "data": {
      "text/plain": [
       "'nishantkhengare310@gmail.com'"
      ]
     },
     "execution_count": 24,
     "metadata": {},
     "output_type": "execute_result"
    }
   ],
   "source": [
    "'nishantkhengare310@gmail.com'"
   ]
  },
  {
   "cell_type": "code",
   "execution_count": 26,
   "metadata": {
    "id": "Ntnzy8_WQJuH",
    "outputId": "fe2c3de2-9ff8-4f69-8c1a-67c8c27ad2c5"
   },
   "outputs": [],
   "source": [
    "def domainname(a):\n",
    "    return a.split('@')[1]"
   ]
  },
  {
   "cell_type": "code",
   "execution_count": 28,
   "metadata": {},
   "outputs": [
    {
     "data": {
      "text/plain": [
       "'gmail.com'"
      ]
     },
     "execution_count": 28,
     "metadata": {},
     "output_type": "execute_result"
    }
   ],
   "source": [
    "domainname('nishantkhengare310@gmail.com')"
   ]
  },
  {
   "cell_type": "markdown",
   "metadata": {
    "id": "gwiE_tcKQJuH"
   },
   "source": [
    "** Create a basic function that returns True if the word 'dog' is contained in the input string. Don't worry about edge cases like a punctuation being attached to the word dog, but do account for capitalization. **"
   ]
  },
  {
   "cell_type": "code",
   "execution_count": 30,
   "metadata": {
    "id": "D-R4e4EnQJuI"
   },
   "outputs": [],
   "source": [
    "def findDog(a):\n",
    "    return 'dog'in a.lower().split()"
   ]
  },
  {
   "cell_type": "code",
   "execution_count": 32,
   "metadata": {
    "id": "2b4jgFPOQJuI",
    "outputId": "a837ea6f-c68e-4314-e030-7345bacc86aa"
   },
   "outputs": [
    {
     "data": {
      "text/plain": [
       "True"
      ]
     },
     "execution_count": 32,
     "metadata": {},
     "output_type": "execute_result"
    }
   ],
   "source": [
    "findDog('Is there a dog here?')"
   ]
  },
  {
   "cell_type": "markdown",
   "metadata": {
    "id": "w3UV5uuaQJuJ"
   },
   "source": [
    "** Create a function that counts the number of times the word \"dog\" occurs in a string. Again ignore edge cases. **"
   ]
  },
  {
   "cell_type": "code",
   "execution_count": 42,
   "metadata": {
    "id": "5oMhr3-qQJuJ"
   },
   "outputs": [],
   "source": [
    "def count_dog(a):\n",
    "    s=0\n",
    "    for x in a.lower().split():\n",
    "        if x== 'dog':\n",
    "            s=s+1\n",
    "    return s"
   ]
  },
  {
   "cell_type": "code",
   "execution_count": 66,
   "metadata": {
    "id": "1HxTPIaLQJuJ",
    "outputId": "35354736-0d1b-40c2-e1d1-b973592381f9"
   },
   "outputs": [
    {
     "data": {
      "text/plain": [
       "2"
      ]
     },
     "execution_count": 66,
     "metadata": {},
     "output_type": "execute_result"
    }
   ],
   "source": [
    "count_dog('This dog runs faster than the other dog dude!')"
   ]
  },
  {
   "cell_type": "markdown",
   "metadata": {
    "id": "ncs1mE9SQJuK"
   },
   "source": [
    "** Use lambda expressions and the filter() function to filter out words from a list that don't start with the letter 's'. For example:**\n",
    "\n",
    "    seq = ['soup','dog','salad','cat','great']\n",
    "\n",
    "**should be filtered down to:**\n",
    "\n",
    "    ['soup','salad']"
   ]
  },
  {
   "cell_type": "code",
   "execution_count": 46,
   "metadata": {
    "id": "DFR_5vgPQJuL"
   },
   "outputs": [],
   "source": [
    "seq = ['soup','dog','salad','cat','great']"
   ]
  },
  {
   "cell_type": "code",
   "execution_count": 48,
   "metadata": {
    "id": "IbPc-SK-QJuL",
    "outputId": "d5bf04a1-c0a2-4fbf-bf3e-f3d68bf8ce6b"
   },
   "outputs": [
    {
     "data": {
      "text/plain": [
       "['soup', 'salad']"
      ]
     },
     "execution_count": 48,
     "metadata": {},
     "output_type": "execute_result"
    }
   ],
   "source": [
    "list(filter(lambda item:item[0]=='s',seq))"
   ]
  },
  {
   "cell_type": "markdown",
   "metadata": {
    "id": "WZB9cYH-QJuM"
   },
   "source": [
    "### Final Problem\n",
    "**You are driving a little too fast, and a police officer stops you. Write a function\n",
    "  to return one of 3 possible results: \"No ticket\", \"Small ticket\", or \"Big Ticket\". \n",
    "  If your speed is 60 or less, the result is \"No Ticket\". If speed is between 61 \n",
    "  and 80 inclusive, the result is \"Small Ticket\". If speed is 81 or more, the result is \"Big    Ticket\". Unless it is your birthday (encoded as a boolean value in the parameters of the function) -- on your birthday, your speed can be 5 higher in all \n",
    "  cases. **"
   ]
  },
  {
   "cell_type": "code",
   "execution_count": 52,
   "metadata": {
    "id": "MF56ggOQQJuM"
   },
   "outputs": [],
   "source": [
    "def caught_speeding(speed, is_birthday):\n",
    "    if is_birthday==True:\n",
    "        speed2=speed\n",
    "    else:\n",
    "        speed2=speed\n",
    "    if speed2>80:\n",
    "        return \"BIG TICKET!!\"\n",
    "    elif speed2>60:\n",
    "        return \"SMALL TICKET!!\"\n",
    "    else:\n",
    "        return \"NO TICKET!!\""
   ]
  },
  {
   "cell_type": "code",
   "execution_count": 54,
   "metadata": {
    "id": "3QU9IrRmQJuN",
    "outputId": "0faac5e7-eff4-4d99-8b41-235f65781276"
   },
   "outputs": [
    {
     "data": {
      "text/plain": [
       "'BIG TICKET!!'"
      ]
     },
     "execution_count": 54,
     "metadata": {},
     "output_type": "execute_result"
    }
   ],
   "source": [
    "caught_speeding(81,True)"
   ]
  },
  {
   "cell_type": "code",
   "execution_count": 58,
   "metadata": {
    "id": "1lsXiwFSQJuO",
    "outputId": "c9e6eb99-73af-47c5-f22c-bf0d7c873afb"
   },
   "outputs": [
    {
     "data": {
      "text/plain": [
       "'NO TICKET!!'"
      ]
     },
     "execution_count": 58,
     "metadata": {},
     "output_type": "execute_result"
    }
   ],
   "source": [
    "caught_speeding(59,False)"
   ]
  },
  {
   "cell_type": "code",
   "execution_count": null,
   "metadata": {
    "id": "8Ckci1sCQJuO"
   },
   "outputs": [],
   "source": [
    "Question\n",
    "Given a string print number num by extracting all the\n",
    "digits from the string as in string\n",
    "Print negative number if the first character in \n",
    "string is '-'\n",
    "eg.\n",
    "-123abcd should return -123,abcd456-->456,fdhfh78dsd89--->7889,-56dssd78-->-5678"
   ]
  },
  {
   "cell_type": "code",
   "execution_count": 60,
   "metadata": {},
   "outputs": [
    {
     "name": "stdin",
     "output_type": "stream",
     "text": [
      "Enter the input: 88jh\n"
     ]
    },
    {
     "name": "stdout",
     "output_type": "stream",
     "text": [
      "88\n"
     ]
    }
   ],
   "source": [
    "s=input(\"Enter the input:\")\n",
    "n=\"\"\n",
    "numbers=[0,1,2,3,4,5,6,7,8,9]\n",
    "if s[0]==\"-\":\n",
    "    n=n+s[0]\n",
    "for v in s:\n",
    "    if v in str(numbers):\n",
    "        n=n+v\n",
    "print(n)"
   ]
  },
  {
   "cell_type": "code",
   "execution_count": null,
   "metadata": {
    "id": "Aoj2DERXQJuP"
   },
   "outputs": [],
   "source": [
    "Q2\n",
    "WAP to check whether a number is palindrome or not on following conditions.\n",
    "1. take input number\n",
    "2. add number and its reverse\n",
    "3. check that number is palindrome or not,if not then sum and its reverse"
   ]
  },
  {
   "cell_type": "code",
   "execution_count": 62,
   "metadata": {},
   "outputs": [
    {
     "name": "stdin",
     "output_type": "stream",
     "text": [
      "Enter the number 88\n"
     ]
    },
    {
     "name": "stdout",
     "output_type": "stream",
     "text": [
      "Number is: 176\n",
      "Reverse is: 671\n",
      "Number is: 847\n",
      "Reverse is: 748\n",
      "Number is: 847\n",
      "Reverse is: 748\n",
      "Number is: 1595\n",
      "Reverse is: 5951\n",
      "Number is: 1595\n",
      "Reverse is: 5951\n",
      "Number is: 7546\n",
      "Reverse is: 6457\n",
      "Number is: 7546\n",
      "Reverse is: 6457\n",
      "Number is: 14003\n",
      "Reverse is: 30041\n",
      "Number is: 14003\n",
      "Reverse is: 30041\n",
      "Number is: 44044\n",
      "Reverse is: 44044\n",
      "Palindrome is: 44044\n"
     ]
    }
   ],
   "source": [
    "n1=input(\"Enter the number\")\n",
    "n2=int(n1[::-1])\n",
    "n3=str(int(n1)+n2)\n",
    "while n3!=n3[::-1]:\n",
    "    print(\"Number is:\",n3)\n",
    "    print(\"Reverse is:\",n3[::-1])\n",
    "    n3=str(int(n3)+int(n3[::-1]))\n",
    "    print(\"Number is:\",n3)\n",
    "    print(\"Reverse is:\",n3[::-1])\n",
    "print(\"Palindrome is:\",n3)"
   ]
  },
  {
   "cell_type": "code",
   "execution_count": null,
   "metadata": {
    "id": "82LZn3ZNQJuP"
   },
   "outputs": [],
   "source": [
    "Write a python function to find and display the five \n",
    "digit number in which the first digit is two more than \n",
    "the second,the second digit is two more than the third,\n",
    "the fourth digit is two less than the third, and the \n",
    "last digit is two more than\n",
    "the fourth.The sum of the third,fourth and fifth digits\n",
    "equals the first.The sum of all the digits is 19"
   ]
  },
  {
   "cell_type": "code",
   "execution_count": 64,
   "metadata": {
    "id": "z1mWzCN4QJuQ"
   },
   "outputs": [
    {
     "name": "stdout",
     "output_type": "stream",
     "text": [
      "59005\n",
      "59014\n",
      "59023\n",
      "59032\n",
      "59041\n",
      "59050\n",
      "59104\n",
      "59113\n",
      "59122\n",
      "59131\n",
      "59140\n",
      "59203\n",
      "59212\n",
      "59221\n",
      "59230\n",
      "59302\n",
      "59311\n",
      "59320\n",
      "59401\n",
      "59410\n",
      "59500\n",
      "67006\n",
      "67015\n",
      "67024\n",
      "67033\n",
      "67042\n",
      "67051\n",
      "67060\n",
      "67105\n",
      "67114\n",
      "67123\n",
      "67132\n",
      "67141\n",
      "67150\n",
      "67204\n",
      "67213\n",
      "67222\n",
      "67231\n",
      "67240\n",
      "67303\n",
      "67312\n",
      "67321\n",
      "67330\n",
      "67402\n",
      "67411\n",
      "67420\n",
      "67501\n",
      "67510\n",
      "67600\n",
      "75007\n",
      "75016\n",
      "75025\n",
      "75034\n",
      "75043\n",
      "75052\n",
      "75061\n",
      "75070\n",
      "75106\n",
      "75115\n",
      "75124\n",
      "75133\n",
      "75142\n",
      "75151\n",
      "75160\n",
      "75205\n",
      "75214\n",
      "75223\n",
      "75232\n",
      "75241\n",
      "75250\n",
      "75304\n",
      "75313\n",
      "75322\n",
      "75331\n",
      "75340\n",
      "75403\n",
      "75412\n",
      "75421\n",
      "75430\n",
      "75502\n",
      "75511\n",
      "75520\n",
      "75601\n",
      "75610\n",
      "75700\n",
      "83008\n",
      "83017\n",
      "83026\n",
      "83035\n",
      "83044\n",
      "83053\n",
      "83062\n",
      "83071\n",
      "83080\n",
      "83107\n",
      "83116\n",
      "83125\n",
      "83134\n",
      "83143\n",
      "83152\n",
      "83161\n",
      "83170\n",
      "83206\n",
      "83215\n",
      "83224\n",
      "83233\n",
      "83242\n",
      "83251\n",
      "83260\n",
      "83305\n",
      "83314\n",
      "83323\n",
      "83332\n",
      "83341\n",
      "83350\n",
      "83404\n",
      "83413\n",
      "83422\n",
      "83431\n",
      "83440\n",
      "83503\n",
      "83512\n",
      "83521\n",
      "83530\n",
      "83602\n",
      "83611\n",
      "83620\n",
      "83701\n",
      "83710\n",
      "83800\n",
      "91009\n",
      "91018\n",
      "91027\n",
      "91036\n",
      "91045\n",
      "91054\n",
      "91063\n",
      "91072\n",
      "91081\n",
      "91090\n",
      "91108\n",
      "91117\n",
      "91126\n",
      "91135\n",
      "91144\n",
      "91153\n",
      "91162\n",
      "91171\n",
      "91180\n",
      "91207\n",
      "91216\n",
      "91225\n",
      "91234\n",
      "91243\n",
      "91252\n",
      "91261\n",
      "91270\n",
      "91306\n",
      "91315\n",
      "91324\n",
      "91333\n",
      "91342\n",
      "91351\n",
      "91360\n",
      "91405\n",
      "91414\n",
      "91423\n",
      "91432\n",
      "91441\n",
      "91450\n",
      "91504\n",
      "91513\n",
      "91522\n",
      "91531\n",
      "91540\n",
      "91603\n",
      "91612\n",
      "91621\n",
      "91630\n",
      "91702\n",
      "91711\n",
      "91720\n",
      "91801\n",
      "91810\n",
      "91900\n"
     ]
    }
   ],
   "source": [
    "def check_five_digit_number(num):\n",
    "    digits = [int(d) for d in str(num)]\n",
    "    if len(digits) != 5:\n",
    "        return False\n",
    "    if digits[2] + digits[3] + digits[4] == digits[0] and sum(digits) == 19:\n",
    "        return True\n",
    "    return False\n",
    "\n",
    "\n",
    "for num in range(10000, 100000):\n",
    "    if check_five_digit_number(num):\n",
    "        print(num)\n",
    "    "
   ]
  },
  {
   "cell_type": "markdown",
   "metadata": {
    "id": "HQI8SaqWQJuR"
   },
   "source": [
    "# Great job!"
   ]
  }
 ],
 "metadata": {
  "colab": {
   "name": "02-Python Crash Course Exercises.ipynb",
   "provenance": []
  },
  "kernelspec": {
   "display_name": "Python [conda env:base] *",
   "language": "python",
   "name": "conda-base-py"
  },
  "language_info": {
   "codemirror_mode": {
    "name": "ipython",
    "version": 3
   },
   "file_extension": ".py",
   "mimetype": "text/x-python",
   "name": "python",
   "nbconvert_exporter": "python",
   "pygments_lexer": "ipython3",
   "version": "3.12.7"
  }
 },
 "nbformat": 4,
 "nbformat_minor": 4
}
